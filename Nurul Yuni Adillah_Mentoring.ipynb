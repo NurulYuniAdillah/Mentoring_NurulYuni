{
  "nbformat": 4,
  "nbformat_minor": 0,
  "metadata": {
    "colab": {
      "provenance": []
    },
    "kernelspec": {
      "name": "python3",
      "display_name": "Python 3"
    },
    "language_info": {
      "name": "python"
    }
  },
  "cells": [
    {
      "cell_type": "code",
      "source": [
        "\n",
        "# Mencari bilangan prima dari 1 hingga 100\n",
        "primes = []\n",
        "for num in range(1, 100+1):\n",
        "    if num > 1:\n",
        "        for i in range(2, num):\n",
        "            if (num % i) == 0:\n",
        "                break\n",
        "        else:\n",
        "            primes.append(num)\n",
        "\n",
        "# Menghitung jumlah bilangan prima\n",
        "total_primes = sum(primes)\n",
        "\n",
        "# Menghitung rata-rata bilangan prima\n",
        "avg_primes = total_primes / len(primes)\n",
        "\n",
        "# Menampilkan hasil\n",
        "print(\"Jumlah bilangan prima:\", total_primes)\n",
        "print(\"Rata-rata bilangan prima:\", avg_primes)"
      ],
      "metadata": {
        "colab": {
          "base_uri": "https://localhost:8080/"
        },
        "id": "0HqLvkX0jGNg",
        "outputId": "15a41e1a-e339-4c6f-9521-2a4eb3d608fb"
      },
      "execution_count": null,
      "outputs": [
        {
          "output_type": "stream",
          "name": "stdout",
          "text": [
            "Jumlah bilangan prima: 1060\n",
            "Rata-rata bilangan prima: 42.4\n"
          ]
        }
      ]
    },
    {
      "cell_type": "code",
      "source": [
        "# Membuat list bilangan genap dari 1 hingga 100\n",
        "even_nums = [num for num in range(1, 101) if num % 2 == 0]\n",
        "\n",
        "# Menghitung kuadrat dari setiap bilangan genap\n",
        "squares = [num**2 for num in even_nums]\n",
        "\n",
        "# Menghitung jumlah bilangan genap yang kuadratnya telah dihitung\n",
        "total = sum(squares)\n",
        "\n",
        "# Menghitung rata-rata dari bilangan genap yang kuadratnya telah dihitung\n",
        "avg = total / len(squares)\n",
        "\n",
        "# Menampilkan hasil\n",
        "print(\"Jumlah kuadrat bilangan genap:\", total)\n",
        "print(\"Rata-rata kuadrat bilangan genap:\", avg)"
      ],
      "metadata": {
        "colab": {
          "base_uri": "https://localhost:8080/"
        },
        "id": "hSVcbQvYjSWG",
        "outputId": "04a771ba-b406-4c59-f62f-480b9ac6f3d3"
      },
      "execution_count": null,
      "outputs": [
        {
          "output_type": "stream",
          "name": "stdout",
          "text": [
            "Jumlah kuadrat bilangan genap: 171700\n",
            "Rata-rata kuadrat bilangan genap: 3434.0\n"
          ]
        }
      ]
    },
    {
      "cell_type": "code",
      "source": [
        "# Meminta input bilangan dari pengguna\n",
        "bilangan = int(input(\"Masukkan bilangan: \"))\n",
        "\n",
        "# Menentukan apakah bilangan tersebut besar atau kecil\n",
        "if bilangan < 100:\n",
        "    print(\"Bilangan kecil\")\n",
        "else:\n",
        "    print(\"Bilangan besar\")"
      ],
      "metadata": {
        "colab": {
          "base_uri": "https://localhost:8080/"
        },
        "id": "2wjCefOXjeXa",
        "outputId": "c0c0b3bf-20d2-4e71-f7bc-0eca69a0606e"
      },
      "execution_count": null,
      "outputs": [
        {
          "output_type": "stream",
          "name": "stdout",
          "text": [
            "Masukkan bilangan: 20\n",
            "Bilangan kecil\n"
          ]
        }
      ]
    },
    {
      "cell_type": "code",
      "source": [
        "# Looping untuk meminta input bilangan\n",
        "while True:\n",
        "    bilangan = int(input(\"Masukkan bilangan: \"))\n",
        "\n",
        "    # Menentukan apakah bilangan tersebut besar atau kecil\n",
        "    if bilangan < 100:\n",
        "        print(\"Bilangan kecil\")\n",
        "    else:\n",
        "        print(\"Bilangan besar\")\n",
        "        break"
      ],
      "metadata": {
        "colab": {
          "base_uri": "https://localhost:8080/"
        },
        "id": "aYeflt-Gj2W1",
        "outputId": "2489fd01-7228-47a8-ced2-ed8827bf4971"
      },
      "execution_count": null,
      "outputs": [
        {
          "output_type": "stream",
          "name": "stdout",
          "text": [
            "Masukkan bilangan: 200\n",
            "Bilangan besar\n"
          ]
        }
      ]
    },
    {
      "cell_type": "code",
      "source": [
        "# Meminta input password dari pengguna\n",
        "password = input(\"Masukkan password: \")\n",
        "\n",
        "# Mengecek apakah password memenuhi kriteria\n",
        "if len(password) < 5:\n",
        "    print(\"Password terlalu pendek\")\n",
        "elif \"8\" not in password:\n",
        "    print(\"Password harus mengandung angka 8\")\n",
        "elif \"X\" not in password:\n",
        "    print(\"Password harus mengandung huruf X\")\n",
        "elif \"@\" not in password:\n",
        "    print(\"Password harus mengandung simbol @\")\n",
        "else:\n",
        "    print(\"Password valid\")"
      ],
      "metadata": {
        "colab": {
          "base_uri": "https://localhost:8080/"
        },
        "id": "HVK3r5kbkSJ3",
        "outputId": "6521ac5c-449f-435d-dc5d-cbd7d0ae5b6a"
      },
      "execution_count": null,
      "outputs": [
        {
          "output_type": "stream",
          "name": "stdout",
          "text": [
            "Masukkan password: Yn\n",
            "Password terlalu pendek\n"
          ]
        }
      ]
    },
    {
      "cell_type": "code",
      "source": [
        "# Looping untuk meminta input password\n",
        "while True:\n",
        "    password = input(\"Masukkan password: \")\n",
        "\n",
        "    # Mengecek apakah password memenuhi kriteria\n",
        "    if len(password) < 5:\n",
        "        print(\"Password terlalu pendek\")\n",
        "    elif \"8\" not in password:\n",
        "        print(\"Password harus mengandung angka 8\")\n",
        "    elif \"X\" not in password:\n",
        "        print(\"Password harus mengandung huruf X\")\n",
        "    elif \"@\" not in password:\n",
        "        print(\"Password harus mengandung simbol @\")\n",
        "    else:\n",
        "        print(\"Password valid\")\n",
        "        break"
      ],
      "metadata": {
        "colab": {
          "base_uri": "https://localhost:8080/"
        },
        "id": "MD1ynxo-k8d4",
        "outputId": "97c27708-c0e5-4f3d-840c-771b0b91c124"
      },
      "execution_count": null,
      "outputs": [
        {
          "output_type": "stream",
          "name": "stdout",
          "text": [
            "Masukkan password: Yunii1234\n",
            "Password harus mengandung angka 8\n",
            "Masukkan password: Yunii12348\n",
            "Password harus mengandung huruf X\n",
            "Masukkan password: Yuni8X@a\n",
            "Password valid\n"
          ]
        }
      ]
    },
    {
      "cell_type": "code",
      "source": [
        "# Inisialisasi variabel count\n",
        "count = 0\n",
        "\n",
        "# List yang akan diperiksa\n",
        "contoh_list = ['cac', 'kyd', 'gdg', '7867']\n",
        "\n",
        "# Looping untuk memeriksa setiap string pada list\n",
        "for string in contoh_list:\n",
        "    # Jika karakter pertama sama dengan karakter terakhir, maka tambahkan ke variabel count\n",
        "    if string[0] == string[-1]:\n",
        "        count += 1\n",
        "\n",
        "# Menampilkan hasil\n",
        "print(\"Jumlah string yang karakter pertama dan terakhirnya sama:\", count)"
      ],
      "metadata": {
        "colab": {
          "base_uri": "https://localhost:8080/"
        },
        "id": "ya9_VIsGlwUH",
        "outputId": "f461678f-1b8f-494c-e253-ef74c0122c73"
      },
      "execution_count": null,
      "outputs": [
        {
          "output_type": "stream",
          "name": "stdout",
          "text": [
            "Jumlah string yang karakter pertama dan terakhirnya sama: 3\n"
          ]
        }
      ]
    },
    {
      "cell_type": "code",
      "source": [
        "# Looping untuk memeriksa apakah sebuah string palindrome\n",
        "while True:\n",
        "    # Meminta input string dari pengguna\n",
        "    kata = input(\"Masukkan sebuah kata: \")\n",
        "    \n",
        "    # Mengecek apakah string merupakan palindrome\n",
        "    if kata == kata[::-1]:\n",
        "        print(\"String merupakan palindrome\")\n",
        "        break\n",
        "    else:\n",
        "        print(\"String bukan palindrome\")"
      ],
      "metadata": {
        "colab": {
          "base_uri": "https://localhost:8080/"
        },
        "id": "iWk9S4-QnFt8",
        "outputId": "9cb0d348-de01-4cee-babd-26804a0d4516"
      },
      "execution_count": null,
      "outputs": [
        {
          "output_type": "stream",
          "name": "stdout",
          "text": [
            "Masukkan sebuah kata: level\n",
            "String merupakan palindrome\n"
          ]
        }
      ]
    },
    {
      "cell_type": "code",
      "source": [
        "# Fungsi untuk menghitung jumlah huruf kapital dan huruf kecil dalam sebuah string\n",
        "def hitung(s):\n",
        "    # Inisialisasi dictionary untuk menyimpan jumlah huruf kapital dan huruf kecil\n",
        "    d = {'upper': 0, 'lower': 0}\n",
        "    \n",
        "    # Looping untuk menghitung jumlah huruf kapital dan huruf kecil pada string\n",
        "    for x in s:\n",
        "        if x.isupper():\n",
        "            d['upper'] += 1\n",
        "        elif x.islower():\n",
        "            d['lower'] += 1\n",
        "    \n",
        "    # Menampilkan hasil\n",
        "    print('String kalimat:', s)\n",
        "    print('Jumlah huruf kapital:', d['upper'])\n",
        "    print('Jumlah huruf kecil:', d['lower'])\n",
        "\n",
        "# Contoh pemanggilan fungsi hitung()\n",
        "hitung('AAAPsPghddk')"
      ],
      "metadata": {
        "colab": {
          "base_uri": "https://localhost:8080/"
        },
        "id": "PNJz3OApntEg",
        "outputId": "3888a96f-d4df-43a7-d8f2-d97eaee16c27"
      },
      "execution_count": null,
      "outputs": [
        {
          "output_type": "stream",
          "name": "stdout",
          "text": [
            "String kalimat: AAAPsPghddk\n",
            "Jumlah huruf kapital: 5\n",
            "Jumlah huruf kecil: 6\n"
          ]
        }
      ]
    },
    {
      "cell_type": "code",
      "source": [
        "# List kata-kata\n",
        "list_kata = [\"aku\", \"halo\", \"mahasiswa\", \"semuanya\", \"gimana\", \"hari\", \"harimu\"]\n",
        "\n",
        "# Looping untuk mencetak kata ganjil\n",
        "for kata in list_kata:\n",
        "    if len(kata) % 2 == 1:\n",
        "        print(kata, end=\" \")"
      ],
      "metadata": {
        "colab": {
          "base_uri": "https://localhost:8080/"
        },
        "id": "BMe-4Q2Bojwd",
        "outputId": "b0f3a935-8414-492a-e9db-058ce21630da"
      },
      "execution_count": null,
      "outputs": [
        {
          "output_type": "stream",
          "name": "stdout",
          "text": [
            "aku mahasiswa "
          ]
        }
      ]
    },
    {
      "cell_type": "code",
      "source": [
        "# List kata-kata\n",
        "list_kata = [\"aku\", \"halo\", \"mahasiswa\", \"semuanya\", \"gimana\", \"hari\", \"harimu\"]\n",
        "\n",
        "# Looping untuk mencetak kata genap\n",
        "for kata in list_kata:\n",
        "    if len(kata) % 2 == 0:\n",
        "        print(kata, end=\" \")"
      ],
      "metadata": {
        "colab": {
          "base_uri": "https://localhost:8080/"
        },
        "id": "-EJ_wFF9o4WI",
        "outputId": "81b85184-5be7-4c03-d1db-8ce10233ac62"
      },
      "execution_count": null,
      "outputs": [
        {
          "output_type": "stream",
          "name": "stdout",
          "text": [
            "halo semuanya gimana hari harimu "
          ]
        }
      ]
    },
    {
      "cell_type": "code",
      "source": [
        "# Menghitung BMI (Body Mass Index)\n",
        "\n",
        "# Meminta input berat badan (dalam kg) dan tinggi badan (dalam meter)\n",
        "berat_badan = float(input(\"Masukkan berat badan (kg): \"))\n",
        "tinggi_badan = float(input(\"Masukkan tinggi badan (m): \"))\n",
        "\n",
        "# Menghitung BMI\n",
        "bmi = berat_badan / (tinggi_badan ** 2)\n",
        "\n",
        "# Menampilkan hasil\n",
        "print(\"BMI Anda:\", bmi)\n",
        "\n",
        "# Menentukan kategori BMI\n",
        "if bmi < 18.5:\n",
        "    print(\"Berat badan Anda kurang\")\n",
        "elif bmi >= 18.5 and bmi < 25:\n",
        "    print(\"Berat badan Anda normal\")\n",
        "elif bmi >= 25 and bmi < 30:\n",
        "    print(\"Berat badan Anda kelebihan\")\n",
        "else:\n",
        "    print(\"Anda mengalami obesitas\")"
      ],
      "metadata": {
        "colab": {
          "base_uri": "https://localhost:8080/"
        },
        "id": "PBnXpKWzqI-I",
        "outputId": "1be29a75-74bb-459c-bc33-1af1c0ffd855"
      },
      "execution_count": null,
      "outputs": [
        {
          "output_type": "stream",
          "name": "stdout",
          "text": [
            "Masukkan berat badan (kg): 55\n",
            "Masukkan tinggi badan (m): 1.58\n",
            "BMI Anda: 22.031725684986377\n",
            "Berat badan Anda normal\n"
          ]
        }
      ]
    },
    {
      "cell_type": "code",
      "source": [
        "# Penghitung harga dengan diskon\n",
        "# Meminta input harga barang dan diskon\n",
        "harga = float(input(\"Masukkan harga barang: \"))\n",
        "diskon = float(input(\"Masukkan diskon dalam persen: \"))\n",
        "\n",
        "# Menghitung harga setelah diskon\n",
        "harga_setelah_diskon = harga - (harga * diskon / 100)\n",
        "\n",
        "# Menampilkan hasil\n",
        "print(\"Harga setelah diskon:\", harga_setelah_diskon)"
      ],
      "metadata": {
        "colab": {
          "base_uri": "https://localhost:8080/"
        },
        "id": "stFMZWWyryws",
        "outputId": "7b5094d3-caac-4d78-9fec-7462b509378d"
      },
      "execution_count": null,
      "outputs": [
        {
          "output_type": "stream",
          "name": "stdout",
          "text": [
            "Masukkan harga barang: 50000\n",
            "Masukkan diskon dalam persen: 15\n",
            "Harga setelah diskon: 42500.0\n"
          ]
        }
      ]
    },
    {
      "cell_type": "code",
      "source": [
        "# Menentukan apakah seseorang lulus ujian atau tidak\n",
        "nilai = float(input(\"Masukkan nilai Anda: \"))\n",
        "\n",
        "if nilai >= 60:\n",
        "    print(\"Selamat! Anda lulus ujian.\")\n",
        "else:\n",
        "    print(\"Maaf, Anda tidak lulus ujian.\")"
      ],
      "metadata": {
        "colab": {
          "base_uri": "https://localhost:8080/"
        },
        "id": "E3DdNVgptl1p",
        "outputId": "6a807840-2229-4d0f-a26a-3d5313b5f2da"
      },
      "execution_count": null,
      "outputs": [
        {
          "output_type": "stream",
          "name": "stdout",
          "text": [
            "Masukkan nilai Anda: 80\n",
            "Selamat! Anda lulus ujian.\n"
          ]
        }
      ]
    },
    {
      "cell_type": "code",
      "source": [
        "# Menentukan grade nilai\n",
        "nilai = float(input(\"Masukkan nilai Anda: \"))\n",
        "\n",
        "# Menentukan grade berdasarkan nilai\n",
        "if nilai >= 90:\n",
        "    grade = \"A\"\n",
        "elif nilai >= 80:\n",
        "    grade = \"B\"\n",
        "elif nilai >= 70:\n",
        "    grade = \"C\"\n",
        "elif nilai >= 60:\n",
        "    grade = \"D\"\n",
        "else:\n",
        "    grade = \"E\"\n",
        "\n",
        "# Menampilkan hasil\n",
        "print(\"Nilai Anda:\", nilai)\n",
        "print(\"Grade Anda:\", grade)"
      ],
      "metadata": {
        "colab": {
          "base_uri": "https://localhost:8080/"
        },
        "id": "OerxNkFDwES4",
        "outputId": "41c3e4d9-3538-4139-e68a-f7d40cfb4702"
      },
      "execution_count": null,
      "outputs": [
        {
          "output_type": "stream",
          "name": "stdout",
          "text": [
            "Masukkan nilai Anda: 88\n",
            "Nilai Anda: 88.0\n",
            "Grade Anda: B\n"
          ]
        }
      ]
    },
    {
      "cell_type": "code",
      "source": [
        "# Menentukan apakah sebuah tahun adalah tahun kabisat atau tidak\n",
        "tahun = int(input(\"Masukkan tahun: \"))\n",
        "\n",
        "# Mengecek apakah tahun tersebut adalah tahun kabisat atau tidak\n",
        "if tahun % 4 == 0 and (tahun % 100 != 0 or tahun % 400 == 0):\n",
        "    print(tahun, \"adalah tahun kabisat.\")\n",
        "else:\n",
        "    print(tahun, \"bukan tahun kabisat.\")"
      ],
      "metadata": {
        "id": "EszZ3ARxyP5z",
        "outputId": "6283ddf3-af8d-43d2-c59e-780be55645f9",
        "colab": {
          "base_uri": "https://localhost:8080/"
        }
      },
      "execution_count": null,
      "outputs": [
        {
          "output_type": "stream",
          "name": "stdout",
          "text": [
            "Masukkan tahun: 2023\n",
            "2023 bukan tahun kabisat.\n"
          ]
        }
      ]
    }
  ]
}